{
 "cells": [
  {
   "cell_type": "markdown",
   "metadata": {},
   "source": [
    "## Python Tricks \n",
    "#### by Dan Bader\n",
    "\n",
    "###### October 2019"
   ]
  },
  {
   "cell_type": "markdown",
   "metadata": {},
   "source": [
    "#### 1 - Assertions\n",
    "\n",
    "Asserts - using to make sure that the unexpected values won't occure. \n",
    "\n",
    "Watch out when using assertions with tuples or lists etc. (Evalueting if the structure is empty and not the values inside)"
   ]
  },
  {
   "cell_type": "code",
   "execution_count": 11,
   "metadata": {},
   "outputs": [],
   "source": [
    "def positive_product_function(x, y):\n",
    "    result = x * y\n",
    "    assert result >= 0, (\n",
    "        'Result was a negative value. '\n",
    "        'This shouldn\\'t occur during'\n",
    "        'the nomal work of the function')\n",
    "    return result   "
   ]
  },
  {
   "cell_type": "code",
   "execution_count": 12,
   "metadata": {},
   "outputs": [
    {
     "ename": "AssertionError",
     "evalue": "Result was a negative value. This shouldn't occur duringthe nomal work of the function",
     "output_type": "error",
     "traceback": [
      "\u001b[1;31m---------------------------------------------------------------------------\u001b[0m",
      "\u001b[1;31mAssertionError\u001b[0m                            Traceback (most recent call last)",
      "\u001b[1;32m<ipython-input-12-a3c7025cfe1d>\u001b[0m in \u001b[0;36m<module>\u001b[1;34m\u001b[0m\n\u001b[1;32m----> 1\u001b[1;33m \u001b[0mpositive_product_function\u001b[0m\u001b[1;33m(\u001b[0m\u001b[1;36m5\u001b[0m\u001b[1;33m,\u001b[0m \u001b[1;33m-\u001b[0m\u001b[1;36m15\u001b[0m\u001b[1;33m)\u001b[0m\u001b[1;33m\u001b[0m\u001b[1;33m\u001b[0m\u001b[0m\n\u001b[0m",
      "\u001b[1;32m<ipython-input-11-084fb64bfbaf>\u001b[0m in \u001b[0;36mpositive_product_function\u001b[1;34m(x, y)\u001b[0m\n\u001b[0;32m      2\u001b[0m     \u001b[0mresult\u001b[0m \u001b[1;33m=\u001b[0m \u001b[0mx\u001b[0m \u001b[1;33m*\u001b[0m \u001b[0my\u001b[0m\u001b[1;33m\u001b[0m\u001b[1;33m\u001b[0m\u001b[0m\n\u001b[0;32m      3\u001b[0m     assert result >= 0, (\n\u001b[1;32m----> 4\u001b[1;33m         \u001b[1;34m'Result was a negative value. '\u001b[0m\u001b[1;33m\u001b[0m\u001b[1;33m\u001b[0m\u001b[0m\n\u001b[0m\u001b[0;32m      5\u001b[0m         \u001b[1;34m'This shouldn\\'t occur during'\u001b[0m\u001b[1;33m\u001b[0m\u001b[1;33m\u001b[0m\u001b[0m\n\u001b[0;32m      6\u001b[0m         'the nomal work of the function')\n",
      "\u001b[1;31mAssertionError\u001b[0m: Result was a negative value. This shouldn't occur duringthe nomal work of the function"
     ]
    }
   ],
   "source": [
    "positive_product_function(5, -15)"
   ]
  },
  {
   "cell_type": "markdown",
   "metadata": {},
   "source": [
    "Normally shouldn't occur and indicates of a malfunction in the program workflow.\n",
    "\n",
    "**TIP:** Not recommended to use for data validation, as the interpreter may have assertions disabled"
   ]
  },
  {
   "cell_type": "code",
   "execution_count": 13,
   "metadata": {},
   "outputs": [],
   "source": [
    "assert (False, 'Assert on an unempty'\n",
    "        'tuple won\\'t raise error.')"
   ]
  },
  {
   "cell_type": "markdown",
   "metadata": {},
   "source": [
    "#### 2 - Commas\n",
    "\n",
    "Advised to use commas after every row in lists etc. for a more readable diff in the control system. \n",
    "Also mind the merging of the strings not separated by commas."
   ]
  },
  {
   "cell_type": "code",
   "execution_count": 16,
   "metadata": {},
   "outputs": [
    {
     "data": {
      "text/plain": [
       "['blue', 'red', 'green', 'yellow']"
      ]
     },
     "execution_count": 16,
     "metadata": {},
     "output_type": "execute_result"
    }
   ],
   "source": [
    "colours = [\n",
    "    'blue',\n",
    "    'red',\n",
    "    'green',\n",
    "    'yel'\n",
    "    'low',\n",
    "]\n",
    "\n",
    "colours"
   ]
  },
  {
   "cell_type": "markdown",
   "metadata": {},
   "source": [
    "#### 3 - __with__ statement to work with files and formatting\n",
    "\n",
    "Ensures that file will be closed. \n",
    "\n",
    "Can be used od fifferent level for formatting simplification and other."
   ]
  },
  {
   "cell_type": "code",
   "execution_count": 19,
   "metadata": {},
   "outputs": [],
   "source": [
    "class WorkFile:\n",
    "    '''\n",
    "    Class created to prevent resource leakage\n",
    "    '''\n",
    "    def __init__(self, name):\n",
    "        self.name = name\n",
    "        \n",
    "    def __enter__(self):\n",
    "        self.file = open(self.name, 'w')\n",
    "        return self.file\n",
    "    \n",
    "    def __exit__(self, exc_type, exc_val, exc_tb):\n",
    "        '''\n",
    "        Requires 4 arguments by documentation.\n",
    "        '''\n",
    "        if self.file:\n",
    "            self.file.close()"
   ]
  },
  {
   "cell_type": "code",
   "execution_count": 20,
   "metadata": {},
   "outputs": [],
   "source": [
    "with WorkFile('test.txt') as f:\n",
    "    f.write('You\\'re a good file')\n",
    "    f.write('Keep it up')"
   ]
  },
  {
   "cell_type": "markdown",
   "metadata": {},
   "source": [
    "Now to the formatting:"
   ]
  },
  {
   "cell_type": "code",
   "execution_count": 22,
   "metadata": {},
   "outputs": [],
   "source": [
    "class TreeStructure:\n",
    "    def __init__(self):\n",
    "        self.level = 0\n",
    "        \n",
    "    def __enter__(self):\n",
    "        self.level += 1\n",
    "        return self\n",
    "    \n",
    "    def __exit__(self, exc_type, exc_val, exc_tb):\n",
    "        self.level -= 1\n",
    "        return self\n",
    "    \n",
    "    def print(self, text):\n",
    "        try:\n",
    "            print('∟' + '___' * self.level + text)\n",
    "        except:\n",
    "            print('Some error occured in the process of Tree Structure creation.')"
   ]
  },
  {
   "cell_type": "code",
   "execution_count": 24,
   "metadata": {},
   "outputs": [
    {
     "name": "stdout",
     "output_type": "stream",
     "text": [
      "∟home\n",
      "∟___bin\n",
      "∟______hidden folder\n",
      "∟___dir\n",
      "∟___exc\n"
     ]
    }
   ],
   "source": [
    "tree = TreeStructure()\n",
    "\n",
    "tree.print('home')\n",
    "with tree:\n",
    "    tree.print('bin')\n",
    "    with tree:\n",
    "        tree.print('hidden folder')\n",
    "    tree.print('dir')\n",
    "    tree.print('exc')"
   ]
  },
  {
   "cell_type": "markdown",
   "metadata": {},
   "source": [
    "#### 4 - Unerscores and Dunders\n",
    "\n",
    "- Single leading underscore - indicated internal use ( _var, _val )\n",
    "\n",
    "Hidden only when in function that is imported as a wildcard.\n",
    "\n",
    "- Single trailing underscore - to use in cases when the name is taken ( class_ , def_ )\n",
    "\n",
    "Nothing hidden, jsut won't be able to use reserved names for other purposes.\n",
    "\n",
    "- Double leading underscore - name mangling ( __var )\n",
    "\n",
    "Changes to attribute. Stays inside a class and is not overridden for the classes that extend base class. Also can be accessed as a global variable. "
   ]
  },
  {
   "cell_type": "code",
   "execution_count": 39,
   "metadata": {},
   "outputs": [],
   "source": [
    "# Single leading underscore\n",
    "\n",
    "class slu:\n",
    "    def __init__(self):\n",
    "        self.foo = 1\n",
    "        self._bar = 2\n",
    "        self.__ban = 3"
   ]
  },
  {
   "cell_type": "code",
   "execution_count": 40,
   "metadata": {},
   "outputs": [
    {
     "name": "stdout",
     "output_type": "stream",
     "text": [
      "1\n",
      "2\n"
     ]
    }
   ],
   "source": [
    "t = slu()\n",
    "print(t.foo)\n",
    "print(t._bar)"
   ]
  },
  {
   "cell_type": "code",
   "execution_count": 41,
   "metadata": {},
   "outputs": [
    {
     "data": {
      "text/plain": [
       "'Now can be just be used as string'"
      ]
     },
     "execution_count": 41,
     "metadata": {},
     "output_type": "execute_result"
    }
   ],
   "source": [
    "#Single tailing underscore\n",
    "\n",
    "str_ = 'Now can be just be used as string'\n",
    "\n",
    "str_"
   ]
  },
  {
   "cell_type": "code",
   "execution_count": 42,
   "metadata": {},
   "outputs": [],
   "source": [
    "#Double leading underscore\n",
    "\n",
    "class Ex_slu(slu):\n",
    "    def __init__(self):\n",
    "        super().__init__()\n",
    "        self.__ban = 'new ban'\n",
    "\n",
    "t1 = Ex_slu()"
   ]
  },
  {
   "cell_type": "code",
   "execution_count": 43,
   "metadata": {},
   "outputs": [
    {
     "ename": "AttributeError",
     "evalue": "'Ex_slu' object has no attribute '__ban'",
     "output_type": "error",
     "traceback": [
      "\u001b[1;31m---------------------------------------------------------------------------\u001b[0m",
      "\u001b[1;31mAttributeError\u001b[0m                            Traceback (most recent call last)",
      "\u001b[1;32m<ipython-input-43-1d9d82a07a2d>\u001b[0m in \u001b[0;36m<module>\u001b[1;34m\u001b[0m\n\u001b[1;32m----> 1\u001b[1;33m \u001b[0mt1\u001b[0m\u001b[1;33m.\u001b[0m\u001b[0m__ban\u001b[0m\u001b[1;33m\u001b[0m\u001b[1;33m\u001b[0m\u001b[0m\n\u001b[0m",
      "\u001b[1;31mAttributeError\u001b[0m: 'Ex_slu' object has no attribute '__ban'"
     ]
    }
   ],
   "source": [
    "t1.__ban"
   ]
  },
  {
   "cell_type": "code",
   "execution_count": 44,
   "metadata": {},
   "outputs": [
    {
     "name": "stdout",
     "output_type": "stream",
     "text": [
      "3\n",
      "new ban\n"
     ]
    }
   ],
   "source": [
    "print(t1._slu__ban)\n",
    "print(t1._Ex_slu__ban)"
   ]
  },
  {
   "cell_type": "markdown",
   "metadata": {},
   "source": [
    "- Double leading and tailing underscores - reserved for special use ( __init__ , __repr__)\n",
    "\n",
    "- Single underscore - just a variable, often considered as a insignificant ( _ )"
   ]
  },
  {
   "cell_type": "code",
   "execution_count": 52,
   "metadata": {},
   "outputs": [],
   "source": [
    "class representable:\n",
    "    def __init__(self):\n",
    "        self.name = 'Object'\n",
    "    \n",
    "    def __repr__(self):\n",
    "        return 'Hi! I\\'m ' + self.name"
   ]
  },
  {
   "cell_type": "code",
   "execution_count": 53,
   "metadata": {},
   "outputs": [
    {
     "data": {
      "text/plain": [
       "Hi! I'm Object"
      ]
     },
     "execution_count": 53,
     "metadata": {},
     "output_type": "execute_result"
    }
   ],
   "source": [
    "representable()"
   ]
  },
  {
   "cell_type": "code",
   "execution_count": 55,
   "metadata": {},
   "outputs": [
    {
     "data": {
      "text/plain": [
       "[0, 1, 2, 0, 1, 2, 0, 1, 2, 0]"
      ]
     },
     "execution_count": 55,
     "metadata": {},
     "output_type": "execute_result"
    }
   ],
   "source": [
    "[_ % 3 for _ in range(10)]"
   ]
  },
  {
   "cell_type": "code",
   "execution_count": 57,
   "metadata": {},
   "outputs": [],
   "source": [
    "#Also can be used to woerk with previous output to console\n",
    "\n",
    "_.append(10)"
   ]
  },
  {
   "cell_type": "code",
   "execution_count": 58,
   "metadata": {},
   "outputs": [
    {
     "data": {
      "text/plain": [
       "[0, 1, 2, 0, 1, 2, 0, 1, 2, 0, 10]"
      ]
     },
     "execution_count": 58,
     "metadata": {},
     "output_type": "execute_result"
    }
   ],
   "source": [
    "_"
   ]
  },
  {
   "cell_type": "markdown",
   "metadata": {},
   "source": [
    "#### 5 - String formatting\n",
    "\n",
    "Some examples of how formatting can be done:"
   ]
  },
  {
   "cell_type": "code",
   "execution_count": 4,
   "metadata": {},
   "outputs": [
    {
     "name": "stdout",
     "output_type": "stream",
     "text": [
      "Hello, Monty\n",
      "badc0ffee\n",
      "Code of {'name': 'Monty', 'errno': 50159747054}(name) caused a 0xbadc0ffee error!\n",
      "Hello, Monty\n",
      "Code of Monty caused a 0xbadc0ffee error!\n",
      "Did you know that a square root of 50159747054 is actually 223963.71816434912?\n"
     ]
    }
   ],
   "source": [
    "errno = 50159747054\n",
    "name = 'Monty'\n",
    "\n",
    "#Old style\n",
    "print ('Hello, %s' % name)\n",
    "print ('%x' % errno)\n",
    "print ('Code of %s(name) caused a 0x%(errno)x error!' %  {\n",
    "    \"name\": name, \"errno\": errno } )\n",
    "\n",
    "#New style\n",
    "print ('Hello, {}'.format(name))\n",
    "print ('Code of {name} caused a 0x{errno:x} error!'.format(name = name, \n",
    "                                                           errno = errno))\n",
    "\n",
    "#Literal string interpolation\n",
    "print (f'Did you know that a square root of {errno} is actually {errno**(1/2)}?')\n"
   ]
  },
  {
   "cell_type": "markdown",
   "metadata": {},
   "source": [
    "Using a string library, templates can be created:"
   ]
  },
  {
   "cell_type": "code",
   "execution_count": 5,
   "metadata": {},
   "outputs": [
    {
     "data": {
      "text/plain": [
       "\"I'm pretty sure that Monty has a pet snake.\""
      ]
     },
     "execution_count": 5,
     "metadata": {},
     "output_type": "execute_result"
    }
   ],
   "source": [
    "from string import Template\n",
    "\n",
    "templ_string = 'I\\'m pretty sure that $name has a pet snake.'\n",
    "Template(templ_string).substitute(name = name)"
   ]
  },
  {
   "cell_type": "markdown",
   "metadata": {},
   "source": [
    "#### 6 - Python Functions\n",
    "\n",
    "They are first-class objects. This means they can be assigned to variables, stored in data structures, passed as arguments. \n",
    "\n",
    "As everything in Python, functions are objects. \n",
    "\n",
    "Here are few examples:"
   ]
  },
  {
   "cell_type": "code",
   "execution_count": 7,
   "metadata": {},
   "outputs": [
    {
     "name": "stdout",
     "output_type": "stream",
     "text": [
      "I say: hello.\n",
      "say\n"
     ]
    }
   ],
   "source": [
    "#A string identifier is assigned on creation\n",
    "\n",
    "def say(text):\n",
    "    return 'I say: '+ text + '.'\n",
    "\n",
    "print(say('hello'))\n",
    "shout = say\n",
    "del say\n",
    "print(shout.__name__)"
   ]
  },
  {
   "cell_type": "code",
   "execution_count": 13,
   "metadata": {},
   "outputs": [
    {
     "name": "stdout",
     "output_type": "stream",
     "text": [
      "True\n",
      "False\n"
     ]
    }
   ],
   "source": [
    "#Checking if object is sallable\n",
    "\n",
    "print(callable(shout))\n",
    "print(callable('hello'))"
   ]
  },
  {
   "cell_type": "markdown",
   "metadata": {},
   "source": [
    "#### 7 - Lambdas\n",
    "\n",
    "Using lambda functions as a key to sort and other features."
   ]
  },
  {
   "cell_type": "code",
   "execution_count": 1,
   "metadata": {},
   "outputs": [
    {
     "name": "stdout",
     "output_type": "stream",
     "text": [
      "[(4, 'a'), (2, 'b'), (3, 'c'), (1, 'd')]\n",
      "[0, -1, 1, -2, 2, -3, 3, 4]\n"
     ]
    }
   ],
   "source": [
    "tuples = [(1, 'd'), (2, 'b'), (4, 'a'), (3, 'c')]\n",
    "\n",
    "print(sorted(tuples, key=lambda x: x[1]))\n",
    "\n",
    "#Other idea for sorting\n",
    "print(sorted(range(-3,5), key=lambda x: abs(x)))"
   ]
  },
  {
   "cell_type": "markdown",
   "metadata": {},
   "source": [
    "But in some cases a cleaner code, produced by comprehensions is better than lambdas:"
   ]
  },
  {
   "cell_type": "code",
   "execution_count": 2,
   "metadata": {},
   "outputs": [
    {
     "name": "stdout",
     "output_type": "stream",
     "text": [
      "[0, 3, 6, 9, 12]\n",
      "[0, 3, 6, 9, 12]\n"
     ]
    }
   ],
   "source": [
    "#This is better\n",
    "print([x for x in range(15) if x % 3 == 0])\n",
    "\n",
    "#Than this\n",
    "print(list(filter(lambda x: x % 3 == 0, range(15) )))"
   ]
  },
  {
   "cell_type": "markdown",
   "metadata": {},
   "source": [
    "#### 8 - Decorators\n",
    "\n",
    "Allow extensin and modification of callable functions, leaving the function itself intact.\n",
    "\n",
    "Extremely useful, when a new feature should be implememnted for a big number of functions at once.\n",
    "\n",
    "The syntax is __@decorator__ before the function definition.\n",
    "\n",
    "Examples:"
   ]
  },
  {
   "cell_type": "code",
   "execution_count": 4,
   "metadata": {},
   "outputs": [
    {
     "name": "stdout",
     "output_type": "stream",
     "text": [
      "HELLO\n"
     ]
    }
   ],
   "source": [
    "def  uppercase(func):\n",
    "    def wrapper():\n",
    "        original = func()\n",
    "        modified = original.upper()\n",
    "        return modified\n",
    "    return wrapper\n",
    "\n",
    "@uppercase\n",
    "def hello():\n",
    "    return 'Hello'\n",
    "\n",
    "print(hello())"
   ]
  },
  {
   "cell_type": "code",
   "execution_count": 11,
   "metadata": {},
   "outputs": [
    {
     "name": "stdout",
     "output_type": "stream",
     "text": [
      "<method-wrapper '__repr__' of function object at 0x00000253BDEE3158>\n",
      "<method-wrapper '__repr__' of function object at 0x00000253BDF617B8>\n"
     ]
    }
   ],
   "source": [
    "#The decorator returns different function object - proof\n",
    "print(hello.__repr__)\n",
    "\n",
    "print(uppercase(hello).__repr__)"
   ]
  },
  {
   "cell_type": "markdown",
   "metadata": {},
   "source": [
    "Applying multiple decorators works like this:\n",
    "\n",
    "Here first the uppercase decorator is used, and then the add_excl one."
   ]
  },
  {
   "cell_type": "code",
   "execution_count": 10,
   "metadata": {},
   "outputs": [
    {
     "name": "stdout",
     "output_type": "stream",
     "text": [
      "AAARGH!!!\n"
     ]
    }
   ],
   "source": [
    "def add_excl(func):\n",
    "    def wrapper():\n",
    "        return func() + '!!!'\n",
    "    return wrapper\n",
    "\n",
    "@add_excl\n",
    "@uppercase\n",
    "def shout():\n",
    "    return 'aaargh'\n",
    "\n",
    "print(shout())"
   ]
  },
  {
   "cell_type": "markdown",
   "metadata": {},
   "source": [
    "Working with functions that accept arguments:"
   ]
  },
  {
   "cell_type": "code",
   "execution_count": 12,
   "metadata": {},
   "outputs": [
    {
     "name": "stdout",
     "output_type": "stream",
     "text": [
      "Called adder() with (3, 4),{}\n",
      " adder()returned 7\n"
     ]
    },
    {
     "data": {
      "text/plain": [
       "7"
      ]
     },
     "execution_count": 12,
     "metadata": {},
     "output_type": "execute_result"
    }
   ],
   "source": [
    "def logger(func):\n",
    "    def wrapper(*args, **kwargs):\n",
    "        print(f'Called {func.__name__}()'\n",
    "             f' with {args},{kwargs}')\n",
    "        \n",
    "        original = func(*args, **kwargs)\n",
    "        \n",
    "        print(f' {func.__name__}()'\n",
    "             f'returned {original!r}')\n",
    "        \n",
    "        return original\n",
    "    return wrapper\n",
    "\n",
    "@logger\n",
    "def adder(arg1, arg2):\n",
    "    return arg1 + arg2\n",
    "\n",
    "adder(3,4)"
   ]
  },
  {
   "cell_type": "markdown",
   "metadata": {},
   "source": [
    "Note: Decorators replace the original \\_\\_doc__ of the applied function. functools.wraps decorator can fix this"
   ]
  },
  {
   "cell_type": "code",
   "execution_count": null,
   "metadata": {},
   "outputs": [],
   "source": []
  }
 ],
 "metadata": {
  "kernelspec": {
   "display_name": "Python 3",
   "language": "python",
   "name": "python3"
  },
  "language_info": {
   "codemirror_mode": {
    "name": "ipython",
    "version": 3
   },
   "file_extension": ".py",
   "mimetype": "text/x-python",
   "name": "python",
   "nbconvert_exporter": "python",
   "pygments_lexer": "ipython3",
   "version": "3.7.3"
  }
 },
 "nbformat": 4,
 "nbformat_minor": 2
}
