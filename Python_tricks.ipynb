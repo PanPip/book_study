{
 "cells": [
  {
   "cell_type": "markdown",
   "metadata": {},
   "source": [
    "## Python Tricks \n",
    "#### by Dan Bader\n",
    "\n",
    "###### October 2019"
   ]
  },
  {
   "cell_type": "markdown",
   "metadata": {},
   "source": [
    "#### 1 - Assertions\n",
    "\n",
    "Asserts - using to make sure that the unexpected values won't occure. \n",
    "\n",
    "Watch out when using assertions with tuples or lists etc. (Evalueting if the structure is empty and not the values inside)"
   ]
  },
  {
   "cell_type": "code",
   "execution_count": 11,
   "metadata": {},
   "outputs": [],
   "source": [
    "def positive_product_function(x, y):\n",
    "    result = x * y\n",
    "    assert result >= 0, (\n",
    "        'Result was a negative value. '\n",
    "        'This shouldn\\'t occur during'\n",
    "        'the nomal work of the function')\n",
    "    return result   "
   ]
  },
  {
   "cell_type": "code",
   "execution_count": 12,
   "metadata": {},
   "outputs": [
    {
     "ename": "AssertionError",
     "evalue": "Result was a negative value. This shouldn't occur duringthe nomal work of the function",
     "output_type": "error",
     "traceback": [
      "\u001b[1;31m---------------------------------------------------------------------------\u001b[0m",
      "\u001b[1;31mAssertionError\u001b[0m                            Traceback (most recent call last)",
      "\u001b[1;32m<ipython-input-12-a3c7025cfe1d>\u001b[0m in \u001b[0;36m<module>\u001b[1;34m\u001b[0m\n\u001b[1;32m----> 1\u001b[1;33m \u001b[0mpositive_product_function\u001b[0m\u001b[1;33m(\u001b[0m\u001b[1;36m5\u001b[0m\u001b[1;33m,\u001b[0m \u001b[1;33m-\u001b[0m\u001b[1;36m15\u001b[0m\u001b[1;33m)\u001b[0m\u001b[1;33m\u001b[0m\u001b[1;33m\u001b[0m\u001b[0m\n\u001b[0m",
      "\u001b[1;32m<ipython-input-11-084fb64bfbaf>\u001b[0m in \u001b[0;36mpositive_product_function\u001b[1;34m(x, y)\u001b[0m\n\u001b[0;32m      2\u001b[0m     \u001b[0mresult\u001b[0m \u001b[1;33m=\u001b[0m \u001b[0mx\u001b[0m \u001b[1;33m*\u001b[0m \u001b[0my\u001b[0m\u001b[1;33m\u001b[0m\u001b[1;33m\u001b[0m\u001b[0m\n\u001b[0;32m      3\u001b[0m     assert result >= 0, (\n\u001b[1;32m----> 4\u001b[1;33m         \u001b[1;34m'Result was a negative value. '\u001b[0m\u001b[1;33m\u001b[0m\u001b[1;33m\u001b[0m\u001b[0m\n\u001b[0m\u001b[0;32m      5\u001b[0m         \u001b[1;34m'This shouldn\\'t occur during'\u001b[0m\u001b[1;33m\u001b[0m\u001b[1;33m\u001b[0m\u001b[0m\n\u001b[0;32m      6\u001b[0m         'the nomal work of the function')\n",
      "\u001b[1;31mAssertionError\u001b[0m: Result was a negative value. This shouldn't occur duringthe nomal work of the function"
     ]
    }
   ],
   "source": [
    "positive_product_function(5, -15)"
   ]
  },
  {
   "cell_type": "markdown",
   "metadata": {},
   "source": [
    "Normally shouldn't occur and indicates of a malfunction in the program workflow.\n",
    "\n",
    "**TIP:** Not recommended to use for data validation, as the interpreter may have assertions disabled"
   ]
  },
  {
   "cell_type": "code",
   "execution_count": 13,
   "metadata": {},
   "outputs": [],
   "source": [
    "assert (False, 'Assert on an unempty'\n",
    "        'tuple won\\'t raise error.')"
   ]
  },
  {
   "cell_type": "markdown",
   "metadata": {},
   "source": [
    "#### 2 - Commas\n",
    "\n",
    "Advised to use commas after every row in lists etc. for a more readable diff in the control system. \n",
    "Also mind the merging of the strings not separated by commas."
   ]
  },
  {
   "cell_type": "code",
   "execution_count": 16,
   "metadata": {},
   "outputs": [
    {
     "data": {
      "text/plain": [
       "['blue', 'red', 'green', 'yellow']"
      ]
     },
     "execution_count": 16,
     "metadata": {},
     "output_type": "execute_result"
    }
   ],
   "source": [
    "colours = [\n",
    "    'blue',\n",
    "    'red',\n",
    "    'green',\n",
    "    'yel'\n",
    "    'low',\n",
    "]\n",
    "\n",
    "colours"
   ]
  },
  {
   "cell_type": "markdown",
   "metadata": {},
   "source": [
    "#### 3 - __with__ statement to work with files and formatting\n",
    "\n",
    "Ensures that file will be closed. \n",
    "\n",
    "Can be used od fifferent level for formatting simplification and other."
   ]
  },
  {
   "cell_type": "code",
   "execution_count": 19,
   "metadata": {},
   "outputs": [],
   "source": [
    "class WorkFile:\n",
    "    '''\n",
    "    Class created to prevent resource leakage\n",
    "    '''\n",
    "    def __init__(self, name):\n",
    "        self.name = name\n",
    "        \n",
    "    def __enter__(self):\n",
    "        self.file = open(self.name, 'w')\n",
    "        return self.file\n",
    "    \n",
    "    def __exit__(self, exc_type, exc_val, exc_tb):\n",
    "        '''\n",
    "        Requires 4 arguments by documentation.\n",
    "        '''\n",
    "        if self.file:\n",
    "            self.file.close()"
   ]
  },
  {
   "cell_type": "code",
   "execution_count": 20,
   "metadata": {},
   "outputs": [],
   "source": [
    "with WorkFile('test.txt') as f:\n",
    "    f.write('You\\'re a good file')\n",
    "    f.write('Keep it up')"
   ]
  },
  {
   "cell_type": "markdown",
   "metadata": {},
   "source": [
    "Now to the formatting:"
   ]
  },
  {
   "cell_type": "code",
   "execution_count": 22,
   "metadata": {},
   "outputs": [],
   "source": [
    "class TreeStructure:\n",
    "    def __init__(self):\n",
    "        self.level = 0\n",
    "        \n",
    "    def __enter__(self):\n",
    "        self.level += 1\n",
    "        return self\n",
    "    \n",
    "    def __exit__(self, exc_type, exc_val, exc_tb):\n",
    "        self.level -= 1\n",
    "        return self\n",
    "    \n",
    "    def print(self, text):\n",
    "        try:\n",
    "            print('∟' + '___' * self.level + text)\n",
    "        except:\n",
    "            print('Some error occured in the process of Tree Structure creation.')"
   ]
  },
  {
   "cell_type": "code",
   "execution_count": 24,
   "metadata": {},
   "outputs": [
    {
     "name": "stdout",
     "output_type": "stream",
     "text": [
      "∟home\n",
      "∟___bin\n",
      "∟______hidden folder\n",
      "∟___dir\n",
      "∟___exc\n"
     ]
    }
   ],
   "source": [
    "tree = TreeStructure()\n",
    "\n",
    "tree.print('home')\n",
    "with tree:\n",
    "    tree.print('bin')\n",
    "    with tree:\n",
    "        tree.print('hidden folder')\n",
    "    tree.print('dir')\n",
    "    tree.print('exc')"
   ]
  },
  {
   "cell_type": "markdown",
   "metadata": {},
   "source": [
    "#### 4 - Unerscores and Dunders\n",
    "\n",
    "- Single leading underscore - indicated internal use ( _var, _val )\n",
    "\n",
    "Hidden only when in function that is imported as a wildcard.\n",
    "\n",
    "- Single trailing underscore - to use in cases when the name is taken ( class_ , def_ )\n",
    "\n",
    "Nothing hidden, jsut won't be able to use reserved names for other purposes.\n",
    "\n",
    "- Double leading underscore - name mangling ( __var )\n",
    "\n",
    "Changes to attribute. Stays inside a class and is not overridden for the classes that extend base class. Also can be accessed as a global variable. "
   ]
  },
  {
   "cell_type": "code",
   "execution_count": 39,
   "metadata": {},
   "outputs": [],
   "source": [
    "# Single leading underscore\n",
    "\n",
    "class slu:\n",
    "    def __init__(self):\n",
    "        self.foo = 1\n",
    "        self._bar = 2\n",
    "        self.__ban = 3"
   ]
  },
  {
   "cell_type": "code",
   "execution_count": 40,
   "metadata": {},
   "outputs": [
    {
     "name": "stdout",
     "output_type": "stream",
     "text": [
      "1\n",
      "2\n"
     ]
    }
   ],
   "source": [
    "t = slu()\n",
    "print(t.foo)\n",
    "print(t._bar)"
   ]
  },
  {
   "cell_type": "code",
   "execution_count": 41,
   "metadata": {},
   "outputs": [
    {
     "data": {
      "text/plain": [
       "'Now can be just be used as string'"
      ]
     },
     "execution_count": 41,
     "metadata": {},
     "output_type": "execute_result"
    }
   ],
   "source": [
    "#Single tailing underscore\n",
    "\n",
    "str_ = 'Now can be just be used as string'\n",
    "\n",
    "str_"
   ]
  },
  {
   "cell_type": "code",
   "execution_count": 42,
   "metadata": {},
   "outputs": [],
   "source": [
    "#Double leading underscore\n",
    "\n",
    "class Ex_slu(slu):\n",
    "    def __init__(self):\n",
    "        super().__init__()\n",
    "        self.__ban = 'new ban'\n",
    "\n",
    "t1 = Ex_slu()"
   ]
  },
  {
   "cell_type": "code",
   "execution_count": 43,
   "metadata": {},
   "outputs": [
    {
     "ename": "AttributeError",
     "evalue": "'Ex_slu' object has no attribute '__ban'",
     "output_type": "error",
     "traceback": [
      "\u001b[1;31m---------------------------------------------------------------------------\u001b[0m",
      "\u001b[1;31mAttributeError\u001b[0m                            Traceback (most recent call last)",
      "\u001b[1;32m<ipython-input-43-1d9d82a07a2d>\u001b[0m in \u001b[0;36m<module>\u001b[1;34m\u001b[0m\n\u001b[1;32m----> 1\u001b[1;33m \u001b[0mt1\u001b[0m\u001b[1;33m.\u001b[0m\u001b[0m__ban\u001b[0m\u001b[1;33m\u001b[0m\u001b[1;33m\u001b[0m\u001b[0m\n\u001b[0m",
      "\u001b[1;31mAttributeError\u001b[0m: 'Ex_slu' object has no attribute '__ban'"
     ]
    }
   ],
   "source": [
    "t1.__ban"
   ]
  },
  {
   "cell_type": "code",
   "execution_count": 44,
   "metadata": {},
   "outputs": [
    {
     "name": "stdout",
     "output_type": "stream",
     "text": [
      "3\n",
      "new ban\n"
     ]
    }
   ],
   "source": [
    "print(t1._slu__ban)\n",
    "print(t1._Ex_slu__ban)"
   ]
  },
  {
   "cell_type": "markdown",
   "metadata": {},
   "source": [
    "- Double leading and tailing underscores - reserved for special use ( __init__ , __repr__)\n",
    "\n",
    "- Single underscore - just a variable, often considered as a insignificant ( _ )"
   ]
  },
  {
   "cell_type": "code",
   "execution_count": 52,
   "metadata": {},
   "outputs": [],
   "source": [
    "class representable:\n",
    "    def __init__(self):\n",
    "        self.name = 'Object'\n",
    "    \n",
    "    def __repr__(self):\n",
    "        return 'Hi! I\\'m ' + self.name"
   ]
  },
  {
   "cell_type": "code",
   "execution_count": 53,
   "metadata": {},
   "outputs": [
    {
     "data": {
      "text/plain": [
       "Hi! I'm Object"
      ]
     },
     "execution_count": 53,
     "metadata": {},
     "output_type": "execute_result"
    }
   ],
   "source": [
    "representable()"
   ]
  },
  {
   "cell_type": "code",
   "execution_count": 55,
   "metadata": {},
   "outputs": [
    {
     "data": {
      "text/plain": [
       "[0, 1, 2, 0, 1, 2, 0, 1, 2, 0]"
      ]
     },
     "execution_count": 55,
     "metadata": {},
     "output_type": "execute_result"
    }
   ],
   "source": [
    "[_ % 3 for _ in range(10)]"
   ]
  },
  {
   "cell_type": "code",
   "execution_count": 57,
   "metadata": {},
   "outputs": [],
   "source": [
    "#Also can be used to woerk with previous output to console\n",
    "\n",
    "_.append(10)"
   ]
  },
  {
   "cell_type": "code",
   "execution_count": 58,
   "metadata": {},
   "outputs": [
    {
     "data": {
      "text/plain": [
       "[0, 1, 2, 0, 1, 2, 0, 1, 2, 0, 10]"
      ]
     },
     "execution_count": 58,
     "metadata": {},
     "output_type": "execute_result"
    }
   ],
   "source": [
    "_"
   ]
  },
  {
   "cell_type": "markdown",
   "metadata": {},
   "source": [
    "#### 5 - String formatting\n",
    "\n",
    "Some examples of how formatting can be done:"
   ]
  },
  {
   "cell_type": "code",
   "execution_count": 4,
   "metadata": {},
   "outputs": [
    {
     "name": "stdout",
     "output_type": "stream",
     "text": [
      "Hello, Monty\n",
      "badc0ffee\n",
      "Code of {'name': 'Monty', 'errno': 50159747054}(name) caused a 0xbadc0ffee error!\n",
      "Hello, Monty\n",
      "Code of Monty caused a 0xbadc0ffee error!\n",
      "Did you know that a square root of 50159747054 is actually 223963.71816434912?\n"
     ]
    }
   ],
   "source": [
    "errno = 50159747054\n",
    "name = 'Monty'\n",
    "\n",
    "#Old style\n",
    "print ('Hello, %s' % name)\n",
    "print ('%x' % errno)\n",
    "print ('Code of %s(name) caused a 0x%(errno)x error!' %  {\n",
    "    \"name\": name, \"errno\": errno } )\n",
    "\n",
    "#New style\n",
    "print ('Hello, {}'.format(name))\n",
    "print ('Code of {name} caused a 0x{errno:x} error!'.format(name = name, \n",
    "                                                           errno = errno))\n",
    "\n",
    "#Literal string interpolation\n",
    "print (f'Did you know that a square root of {errno} is actually {errno**(1/2)}?')\n"
   ]
  },
  {
   "cell_type": "markdown",
   "metadata": {},
   "source": [
    "Using a string library, templates can be created:"
   ]
  },
  {
   "cell_type": "code",
   "execution_count": 5,
   "metadata": {},
   "outputs": [
    {
     "data": {
      "text/plain": [
       "\"I'm pretty sure that Monty has a pet snake.\""
      ]
     },
     "execution_count": 5,
     "metadata": {},
     "output_type": "execute_result"
    }
   ],
   "source": [
    "from string import Template\n",
    "\n",
    "templ_string = 'I\\'m pretty sure that $name has a pet snake.'\n",
    "Template(templ_string).substitute(name = name)"
   ]
  },
  {
   "cell_type": "markdown",
   "metadata": {},
   "source": [
    "#### 6 - Python Functions\n",
    "\n",
    "They are first-class objects. This means they can be assigned to variables, stored in data structures, passed as arguments. \n",
    "\n",
    "As everything in Python, functions are objects. \n",
    "\n",
    "Here are few examples:"
   ]
  },
  {
   "cell_type": "code",
   "execution_count": 7,
   "metadata": {},
   "outputs": [
    {
     "name": "stdout",
     "output_type": "stream",
     "text": [
      "I say: hello.\n",
      "say\n"
     ]
    }
   ],
   "source": [
    "#A string identifier is assigned on creation\n",
    "\n",
    "def say(text):\n",
    "    return 'I say: '+ text + '.'\n",
    "\n",
    "print(say('hello'))\n",
    "shout = say\n",
    "del say\n",
    "print(shout.__name__)"
   ]
  },
  {
   "cell_type": "code",
   "execution_count": 13,
   "metadata": {},
   "outputs": [
    {
     "name": "stdout",
     "output_type": "stream",
     "text": [
      "True\n",
      "False\n"
     ]
    }
   ],
   "source": [
    "#Checking if object is sallable\n",
    "\n",
    "print(callable(shout))\n",
    "print(callable('hello'))"
   ]
  },
  {
   "cell_type": "markdown",
   "metadata": {},
   "source": [
    "#### 7 - Lambdas\n",
    "\n",
    "Using lambda functions as a key to sort and other features."
   ]
  },
  {
   "cell_type": "code",
   "execution_count": 1,
   "metadata": {},
   "outputs": [
    {
     "name": "stdout",
     "output_type": "stream",
     "text": [
      "[(4, 'a'), (2, 'b'), (3, 'c'), (1, 'd')]\n",
      "[0, -1, 1, -2, 2, -3, 3, 4]\n"
     ]
    }
   ],
   "source": [
    "tuples = [(1, 'd'), (2, 'b'), (4, 'a'), (3, 'c')]\n",
    "\n",
    "print(sorted(tuples, key=lambda x: x[1]))\n",
    "\n",
    "#Other idea for sorting\n",
    "print(sorted(range(-3,5), key=lambda x: abs(x)))"
   ]
  },
  {
   "cell_type": "markdown",
   "metadata": {},
   "source": [
    "But in some cases a cleaner code, produced by comprehensions is better than lambdas:"
   ]
  },
  {
   "cell_type": "code",
   "execution_count": 2,
   "metadata": {},
   "outputs": [
    {
     "name": "stdout",
     "output_type": "stream",
     "text": [
      "[0, 3, 6, 9, 12]\n",
      "[0, 3, 6, 9, 12]\n"
     ]
    }
   ],
   "source": [
    "#This is better\n",
    "print([x for x in range(15) if x % 3 == 0])\n",
    "\n",
    "#Than this\n",
    "print(list(filter(lambda x: x % 3 == 0, range(15) )))"
   ]
  },
  {
   "cell_type": "markdown",
   "metadata": {},
   "source": [
    "#### 8 - Decorators\n",
    "\n",
    "Allow extensin and modification of callable functions, leaving the function itself intact.\n",
    "\n",
    "Extremely useful, when a new feature should be implememnted for a big number of functions at once.\n",
    "\n",
    "The syntax is __@decorator__ before the function definition.\n",
    "\n",
    "Examples:"
   ]
  },
  {
   "cell_type": "code",
   "execution_count": 4,
   "metadata": {},
   "outputs": [
    {
     "name": "stdout",
     "output_type": "stream",
     "text": [
      "HELLO\n"
     ]
    }
   ],
   "source": [
    "def  uppercase(func):\n",
    "    def wrapper():\n",
    "        original = func()\n",
    "        modified = original.upper()\n",
    "        return modified\n",
    "    return wrapper\n",
    "\n",
    "@uppercase\n",
    "def hello():\n",
    "    return 'Hello'\n",
    "\n",
    "print(hello())"
   ]
  },
  {
   "cell_type": "code",
   "execution_count": 11,
   "metadata": {},
   "outputs": [
    {
     "name": "stdout",
     "output_type": "stream",
     "text": [
      "<method-wrapper '__repr__' of function object at 0x00000253BDEE3158>\n",
      "<method-wrapper '__repr__' of function object at 0x00000253BDF617B8>\n"
     ]
    }
   ],
   "source": [
    "#The decorator returns different function object - proof\n",
    "print(hello.__repr__)\n",
    "\n",
    "print(uppercase(hello).__repr__)"
   ]
  },
  {
   "cell_type": "markdown",
   "metadata": {},
   "source": [
    "Applying multiple decorators works like this:\n",
    "\n",
    "Here first the uppercase decorator is used, and then the add_excl one."
   ]
  },
  {
   "cell_type": "code",
   "execution_count": 10,
   "metadata": {},
   "outputs": [
    {
     "name": "stdout",
     "output_type": "stream",
     "text": [
      "AAARGH!!!\n"
     ]
    }
   ],
   "source": [
    "def add_excl(func):\n",
    "    def wrapper():\n",
    "        return func() + '!!!'\n",
    "    return wrapper\n",
    "\n",
    "@add_excl\n",
    "@uppercase\n",
    "def shout():\n",
    "    return 'aaargh'\n",
    "\n",
    "print(shout())"
   ]
  },
  {
   "cell_type": "markdown",
   "metadata": {},
   "source": [
    "Working with functions that accept arguments:"
   ]
  },
  {
   "cell_type": "code",
   "execution_count": 12,
   "metadata": {},
   "outputs": [
    {
     "name": "stdout",
     "output_type": "stream",
     "text": [
      "Called adder() with (3, 4),{}\n",
      " adder()returned 7\n"
     ]
    },
    {
     "data": {
      "text/plain": [
       "7"
      ]
     },
     "execution_count": 12,
     "metadata": {},
     "output_type": "execute_result"
    }
   ],
   "source": [
    "def logger(func):\n",
    "    def wrapper(*args, **kwargs):\n",
    "        print(f'Called {func.__name__}()'\n",
    "             f' with {args},{kwargs}')\n",
    "        \n",
    "        original = func(*args, **kwargs)\n",
    "        \n",
    "        print(f' {func.__name__}()'\n",
    "             f'returned {original!r}')\n",
    "        \n",
    "        return original\n",
    "    return wrapper\n",
    "\n",
    "@logger\n",
    "def adder(arg1, arg2):\n",
    "    return arg1 + arg2\n",
    "\n",
    "adder(3,4)"
   ]
  },
  {
   "cell_type": "markdown",
   "metadata": {},
   "source": [
    "Note: Decorators replace the original \\_\\_doc__  and \\_\\_name__ of the applied function. functools.wraps decorator can fix this"
   ]
  },
  {
   "cell_type": "markdown",
   "metadata": {},
   "source": [
    "#### 9 - Use of \\*args and \\*\\*kwargs\n",
    "\n",
    "Use - allowing function to accept optional parameters. \n",
    "\n",
    "\\*args will collect positional arguments, \\*\\*kwargs will collect keyword arguments\n",
    "\n",
    "Note: names __args__ and __kwargs__ are a convention to use, can be replaced with an other variable names."
   ]
  },
  {
   "cell_type": "code",
   "execution_count": 16,
   "metadata": {},
   "outputs": [
    {
     "name": "stdout",
     "output_type": "stream",
     "text": [
      "Function test_function got arguments: (10, 11, 12), {'king': 'John'}\n",
      "Changed arguments to: (10, 11, 12, 'Hey there'), {'king': 'John', 'added': 'Hello'}\n"
     ]
    }
   ],
   "source": [
    "def test_function(*args, **kwargs):\n",
    "    kwargs1 = kwargs.copy()\n",
    "    kwargs1['added'] = 'Hello'\n",
    "    args1 = args + ('Hey there',)\n",
    "    print(f'Function {test_function.__name__} got arguments: {args}, {kwargs}')\n",
    "    print(f'Changed arguments to: {args1}, {kwargs1}')\n",
    "    \n",
    "test_function(10, 11, 12, king = 'John')"
   ]
  },
  {
   "cell_type": "markdown",
   "metadata": {},
   "source": [
    "#### 10 - Argument unpacking\n",
    "\n",
    "To unpack arguments from sequences and dictionaries, one can use \\* and \\*\\* operators:"
   ]
  },
  {
   "cell_type": "code",
   "execution_count": 21,
   "metadata": {},
   "outputs": [],
   "source": [
    "def specific_function(a, b, c):\n",
    "    print(f'Result for adding {a}, {b} and {c} is {a + b + c}.')"
   ]
  },
  {
   "cell_type": "code",
   "execution_count": 22,
   "metadata": {},
   "outputs": [
    {
     "name": "stdout",
     "output_type": "stream",
     "text": [
      "Result for adding 2, 3 and 4 is 9.\n",
      "Result for adding 4, 5 and 6 is 15.\n",
      "Result for adding 7, 8 and 9 is 24.\n"
     ]
    }
   ],
   "source": [
    "test_tuple = (2, 3, 4)\n",
    "test_list = [4, 5, 6]\n",
    "test_dict = {'a': 7, 'b': 8, 'c': 9}\n",
    "\n",
    "specific_function(*test_tuple)\n",
    "specific_function(*test_list)\n",
    "specific_function(**test_dict) #Keep in mind that the parameter names should match here"
   ]
  },
  {
   "cell_type": "markdown",
   "metadata": {},
   "source": [
    "#### 11 - Nothing as a default return statement\n",
    "\n",
    "In Python the default return of a function is __None__"
   ]
  },
  {
   "cell_type": "code",
   "execution_count": 23,
   "metadata": {},
   "outputs": [],
   "source": [
    "#This is the same as\n",
    "def example_1(data):\n",
    "    '''\n",
    "    Returns only data that is a string, otherwise None\n",
    "    '''\n",
    "    if type(data) == str:\n",
    "        return data\n",
    "    return None\n",
    "\n",
    "#this function here:\n",
    "def example_2(data):\n",
    "    '''\n",
    "    Returns only data that is a string, otherwise None\n",
    "    '''\n",
    "    if type(data) == str:\n",
    "        return data"
   ]
  },
  {
   "cell_type": "code",
   "execution_count": 24,
   "metadata": {},
   "outputs": [
    {
     "name": "stdout",
     "output_type": "stream",
     "text": [
      "Hello\n",
      "Hello\n",
      "None\n",
      "None\n"
     ]
    }
   ],
   "source": [
    "print(example_1('Hello'))\n",
    "print(example_2('Hello'))\n",
    "\n",
    "print(example_1(True))\n",
    "print(example_2(True))"
   ]
  },
  {
   "cell_type": "markdown",
   "metadata": {},
   "source": [
    "Note: Sometimes, it may be better to declare \"return None\" for better readability of code"
   ]
  },
  {
   "cell_type": "markdown",
   "metadata": {},
   "source": [
    "#### 12 - Comparison of objects \"is\" or \"==\"\n",
    "\n",
    "While the \"is\" testing if the object is the same - two variables point to the same object.\n",
    "\n",
    "\"==\" tests if the objects referred by variables are equal."
   ]
  },
  {
   "cell_type": "code",
   "execution_count": 27,
   "metadata": {},
   "outputs": [
    {
     "name": "stdout",
     "output_type": "stream",
     "text": [
      "True\n",
      "True\n"
     ]
    }
   ],
   "source": [
    "x = [1, 2, 3]\n",
    "y = x\n",
    "\n",
    "print(x == y)\n",
    "print(x is y)"
   ]
  },
  {
   "cell_type": "code",
   "execution_count": 28,
   "metadata": {},
   "outputs": [
    {
     "name": "stdout",
     "output_type": "stream",
     "text": [
      "True\n",
      "False\n"
     ]
    }
   ],
   "source": [
    "z = x[:]\n",
    "\n",
    "print(x == z)\n",
    "print(x is z)"
   ]
  },
  {
   "cell_type": "markdown",
   "metadata": {},
   "source": [
    "#### 13 - Representation of classes\n",
    "\n",
    "\\_\\_str__ dunder is used when representing object as a string\n",
    "\n",
    "\\_\\_repr__ is used when the object representation is called via console\n",
    "\n",
    "The second is used more for debugging purposes."
   ]
  },
  {
   "cell_type": "code",
   "execution_count": 30,
   "metadata": {},
   "outputs": [
    {
     "name": "stdout",
     "output_type": "stream",
     "text": [
      "Student Bill with marks [4, 5, 4]\n"
     ]
    }
   ],
   "source": [
    "class Student:\n",
    "    def __init__(self, name, marks):\n",
    "        self.name = name\n",
    "        self.marks = marks\n",
    "        \n",
    "    def __str__(self):\n",
    "        return (f'Student {self.name} with marks {self.marks}')\n",
    "    \n",
    "    def __repr__(self):\n",
    "        return (f'{self.__class__.__name__}('\n",
    "               f'{self.name!r}, {self.marks!r})')\n",
    "    \n",
    "bill = Student('Bill', [4, 5, 4])\n",
    "\n",
    "print(bill)"
   ]
  },
  {
   "cell_type": "code",
   "execution_count": 31,
   "metadata": {},
   "outputs": [
    {
     "data": {
      "text/plain": [
       "Student('Bill', [4, 5, 4])"
      ]
     },
     "execution_count": 31,
     "metadata": {},
     "output_type": "execute_result"
    }
   ],
   "source": [
    "bill"
   ]
  },
  {
   "cell_type": "markdown",
   "metadata": {},
   "source": [
    "#### 14 - Difference between shallow and deep copies\n",
    "\n",
    "Shallow - making a new objects with links to same objects in the original object.\n",
    "\n",
    "Deep - all the contents of an original object are copied recursively."
   ]
  },
  {
   "cell_type": "code",
   "execution_count": 39,
   "metadata": {},
   "outputs": [
    {
     "name": "stdout",
     "output_type": "stream",
     "text": [
      "[[1, 2, 3], [4, 5, 6], [7, 8, 9]]\n",
      "[[1, 2, 3], [4, 5, 6], [7, 8, 9]]\n",
      "False\n",
      "[[1, 2, 3], [4, 'Oopsie', 6], [7, 8, 9]]\n",
      "[[1, 2, 3], [4, 'Oopsie', 6], [7, 8, 9]]\n",
      "True\n",
      "[[1, 2, 3], [4, 'Oopsie', 6], [7, 8, 9], [10, 11, 12]]\n",
      "[[1, 2, 3], [4, 'Oopsie', 6], [7, 8, 9]]\n"
     ]
    }
   ],
   "source": [
    "list_a = [[1, 2, 3], [4, 5, 6], [7, 8, 9]]\n",
    "\n",
    "shallow_a = list(list_a)\n",
    "\n",
    "print(list_a)\n",
    "print(shallow_a)\n",
    "print(list_a is shallow_a)\n",
    "\n",
    "list_a[1][1] = 'Oopsie'\n",
    "\n",
    "print(list_a)\n",
    "print(shallow_a)\n",
    "print(list_a[1] is shallow_a[1])\n",
    "\n",
    "list_a.append([10, 11, 12])\n",
    "\n",
    "print(list_a)\n",
    "print(shallow_a)"
   ]
  },
  {
   "cell_type": "code",
   "execution_count": 40,
   "metadata": {},
   "outputs": [
    {
     "name": "stdout",
     "output_type": "stream",
     "text": [
      "[[1, 2, 3], [4, 'Oopsie', 6], [7, 8, 9], [10, 11, 12]]\n",
      "[[1, 2, 3], [4, 'Oopsie', 6], [7, 8, 9], [10, 11, 12]]\n",
      "False\n",
      "[[1, 'Bam!', 3], [4, 'Oopsie', 6], [7, 8, 9], [10, 11, 12]]\n",
      "[[1, 2, 3], [4, 'Oopsie', 6], [7, 8, 9], [10, 11, 12]]\n",
      "False\n"
     ]
    }
   ],
   "source": [
    "import copy\n",
    "\n",
    "deep_a = copy.deepcopy(list_a)\n",
    "\n",
    "print(list_a)\n",
    "print(deep_a)\n",
    "print(list_a is deep_a)\n",
    "\n",
    "list_a[0][1] = 'Bam!'\n",
    "\n",
    "print(list_a)\n",
    "print(deep_a)\n",
    "print(list_a[1] is deep_a[1])"
   ]
  },
  {
   "cell_type": "markdown",
   "metadata": {},
   "source": [
    "#### 15 - Abstract Base Classes Inheritance\n",
    "\n",
    "Key objectives:\n",
    "- making instantiating the base class impossible\n",
    "- if an interfae method was not implemented, the error should be raised as early as possible\n"
   ]
  },
  {
   "cell_type": "code",
   "execution_count": 41,
   "metadata": {},
   "outputs": [
    {
     "ename": "NotImplementedError",
     "evalue": "",
     "output_type": "error",
     "traceback": [
      "\u001b[1;31m---------------------------------------------------------------------------\u001b[0m",
      "\u001b[1;31mNotImplementedError\u001b[0m                       Traceback (most recent call last)",
      "\u001b[1;32m<ipython-input-41-3f21297f7f8a>\u001b[0m in \u001b[0;36m<module>\u001b[1;34m\u001b[0m\n\u001b[0;32m     11\u001b[0m \u001b[1;33m\u001b[0m\u001b[0m\n\u001b[0;32m     12\u001b[0m \u001b[0mex\u001b[0m \u001b[1;33m=\u001b[0m \u001b[0mParent\u001b[0m\u001b[1;33m(\u001b[0m\u001b[1;33m)\u001b[0m\u001b[1;33m\u001b[0m\u001b[1;33m\u001b[0m\u001b[0m\n\u001b[1;32m---> 13\u001b[1;33m \u001b[0mex\u001b[0m\u001b[1;33m.\u001b[0m\u001b[0mneeded\u001b[0m\u001b[1;33m(\u001b[0m\u001b[1;33m)\u001b[0m\u001b[1;33m\u001b[0m\u001b[1;33m\u001b[0m\u001b[0m\n\u001b[0m",
      "\u001b[1;32m<ipython-input-41-3f21297f7f8a>\u001b[0m in \u001b[0;36mneeded\u001b[1;34m(self)\u001b[0m\n\u001b[0;32m      4\u001b[0m \u001b[1;33m\u001b[0m\u001b[0m\n\u001b[0;32m      5\u001b[0m     \u001b[1;32mdef\u001b[0m \u001b[0mneeded\u001b[0m\u001b[1;33m(\u001b[0m\u001b[0mself\u001b[0m\u001b[1;33m)\u001b[0m\u001b[1;33m:\u001b[0m\u001b[1;33m\u001b[0m\u001b[1;33m\u001b[0m\u001b[0m\n\u001b[1;32m----> 6\u001b[1;33m         \u001b[1;32mraise\u001b[0m \u001b[0mNotImplementedError\u001b[0m\u001b[1;33m(\u001b[0m\u001b[1;33m)\u001b[0m\u001b[1;33m\u001b[0m\u001b[1;33m\u001b[0m\u001b[0m\n\u001b[0m\u001b[0;32m      7\u001b[0m \u001b[1;33m\u001b[0m\u001b[0m\n\u001b[0;32m      8\u001b[0m \u001b[1;32mclass\u001b[0m \u001b[0mChild\u001b[0m\u001b[1;33m(\u001b[0m\u001b[0mParent\u001b[0m\u001b[1;33m)\u001b[0m\u001b[1;33m:\u001b[0m\u001b[1;33m\u001b[0m\u001b[1;33m\u001b[0m\u001b[0m\n",
      "\u001b[1;31mNotImplementedError\u001b[0m: "
     ]
    }
   ],
   "source": [
    "class Parent():\n",
    "    def necessary(self):\n",
    "        raise NotImplementedError()\n",
    "    \n",
    "    def needed(self):\n",
    "        raise NotImplementedError()\n",
    "        \n",
    "class Child(Parent):\n",
    "    def needed(self):\n",
    "        return 'I\\'m needed!'\n",
    "    \n",
    "ex = Parent()\n",
    "ex.needed()"
   ]
  },
  {
   "cell_type": "code",
   "execution_count": 42,
   "metadata": {},
   "outputs": [
    {
     "ename": "NotImplementedError",
     "evalue": "",
     "output_type": "error",
     "traceback": [
      "\u001b[1;31m---------------------------------------------------------------------------\u001b[0m",
      "\u001b[1;31mNotImplementedError\u001b[0m                       Traceback (most recent call last)",
      "\u001b[1;32m<ipython-input-42-751923d8df92>\u001b[0m in \u001b[0;36m<module>\u001b[1;34m\u001b[0m\n\u001b[0;32m      2\u001b[0m \u001b[1;33m\u001b[0m\u001b[0m\n\u001b[0;32m      3\u001b[0m \u001b[0mey\u001b[0m\u001b[1;33m.\u001b[0m\u001b[0mneeded\u001b[0m\u001b[1;33m(\u001b[0m\u001b[1;33m)\u001b[0m\u001b[1;33m\u001b[0m\u001b[1;33m\u001b[0m\u001b[0m\n\u001b[1;32m----> 4\u001b[1;33m \u001b[0mey\u001b[0m\u001b[1;33m.\u001b[0m\u001b[0mnecessary\u001b[0m\u001b[1;33m(\u001b[0m\u001b[1;33m)\u001b[0m\u001b[1;33m\u001b[0m\u001b[1;33m\u001b[0m\u001b[0m\n\u001b[0m",
      "\u001b[1;32m<ipython-input-41-3f21297f7f8a>\u001b[0m in \u001b[0;36mnecessary\u001b[1;34m(self)\u001b[0m\n\u001b[0;32m      1\u001b[0m \u001b[1;32mclass\u001b[0m \u001b[0mParent\u001b[0m\u001b[1;33m(\u001b[0m\u001b[1;33m)\u001b[0m\u001b[1;33m:\u001b[0m\u001b[1;33m\u001b[0m\u001b[1;33m\u001b[0m\u001b[0m\n\u001b[0;32m      2\u001b[0m     \u001b[1;32mdef\u001b[0m \u001b[0mnecessary\u001b[0m\u001b[1;33m(\u001b[0m\u001b[0mself\u001b[0m\u001b[1;33m)\u001b[0m\u001b[1;33m:\u001b[0m\u001b[1;33m\u001b[0m\u001b[1;33m\u001b[0m\u001b[0m\n\u001b[1;32m----> 3\u001b[1;33m         \u001b[1;32mraise\u001b[0m \u001b[0mNotImplementedError\u001b[0m\u001b[1;33m(\u001b[0m\u001b[1;33m)\u001b[0m\u001b[1;33m\u001b[0m\u001b[1;33m\u001b[0m\u001b[0m\n\u001b[0m\u001b[0;32m      4\u001b[0m \u001b[1;33m\u001b[0m\u001b[0m\n\u001b[0;32m      5\u001b[0m     \u001b[1;32mdef\u001b[0m \u001b[0mneeded\u001b[0m\u001b[1;33m(\u001b[0m\u001b[0mself\u001b[0m\u001b[1;33m)\u001b[0m\u001b[1;33m:\u001b[0m\u001b[1;33m\u001b[0m\u001b[1;33m\u001b[0m\u001b[0m\n",
      "\u001b[1;31mNotImplementedError\u001b[0m: "
     ]
    }
   ],
   "source": [
    "ey = Child()\n",
    "\n",
    "ey.needed()\n",
    "ey.necessary()"
   ]
  },
  {
   "cell_type": "markdown",
   "metadata": {},
   "source": [
    "Now, this is how to get error at a stage of instantiation, if a method wasn't implemented:"
   ]
  },
  {
   "cell_type": "code",
   "execution_count": 43,
   "metadata": {},
   "outputs": [
    {
     "ename": "TypeError",
     "evalue": "Can't instantiate abstract class Child with abstract methods necessary",
     "output_type": "error",
     "traceback": [
      "\u001b[1;31m---------------------------------------------------------------------------\u001b[0m",
      "\u001b[1;31mTypeError\u001b[0m                                 Traceback (most recent call last)",
      "\u001b[1;32m<ipython-input-43-48596d5095d7>\u001b[0m in \u001b[0;36m<module>\u001b[1;34m\u001b[0m\n\u001b[0;32m     14\u001b[0m         \u001b[1;32mreturn\u001b[0m \u001b[1;34m'I\\'m needed!'\u001b[0m\u001b[1;33m\u001b[0m\u001b[1;33m\u001b[0m\u001b[0m\n\u001b[0;32m     15\u001b[0m \u001b[1;33m\u001b[0m\u001b[0m\n\u001b[1;32m---> 16\u001b[1;33m \u001b[0mez\u001b[0m \u001b[1;33m=\u001b[0m \u001b[0mChild\u001b[0m\u001b[1;33m(\u001b[0m\u001b[1;33m)\u001b[0m\u001b[1;33m\u001b[0m\u001b[1;33m\u001b[0m\u001b[0m\n\u001b[0m",
      "\u001b[1;31mTypeError\u001b[0m: Can't instantiate abstract class Child with abstract methods necessary"
     ]
    }
   ],
   "source": [
    "from abc import ABCMeta, abstractmethod\n",
    "\n",
    "class Parent(metaclass = ABCMeta):\n",
    "    @abstractmethod\n",
    "    def necessary(self):\n",
    "        raise NotImplementedError()\n",
    "    \n",
    "    @abstractmethod\n",
    "    def needed(self):\n",
    "        raise NotImplementedError()\n",
    "        \n",
    "class Child(Parent):\n",
    "    def needed(self):\n",
    "        return 'I\\'m needed!'\n",
    "    \n",
    "ez = Child()"
   ]
  },
  {
   "cell_type": "markdown",
   "metadata": {},
   "source": [
    "#### 16 - Namedtuples\n",
    "\n",
    "A simple data structure for groupling arbitrary objects\n",
    "- also immutable\n",
    "- each item can be accessed via a unique identifier, as well as by index\n"
   ]
  },
  {
   "cell_type": "code",
   "execution_count": 46,
   "metadata": {},
   "outputs": [
    {
     "name": "stdout",
     "output_type": "stream",
     "text": [
      "Simba\n",
      "yellow\n",
      "yellow\n"
     ]
    }
   ],
   "source": [
    "from collections import namedtuple\n",
    "\n",
    "Cat = namedtuple('Cat', 'name colour')\n",
    "#is equivalent to\n",
    "Cat = namedtuple('Cat', ['name', 'colour'])\n",
    "\n",
    "my_cat = Cat('Simba', 'yellow')\n",
    "print(my_cat.name)\n",
    "print(my_cat.colour)\n",
    "print(my_cat[1])"
   ]
  },
  {
   "cell_type": "code",
   "execution_count": 47,
   "metadata": {},
   "outputs": [
    {
     "data": {
      "text/plain": [
       "Cat(name='Simba', colour='yellow')"
      ]
     },
     "execution_count": 47,
     "metadata": {},
     "output_type": "execute_result"
    }
   ],
   "source": [
    "my_cat"
   ]
  },
  {
   "cell_type": "markdown",
   "metadata": {},
   "source": [
    "Some of the useful helper methods:"
   ]
  },
  {
   "cell_type": "code",
   "execution_count": 48,
   "metadata": {},
   "outputs": [
    {
     "data": {
      "text/plain": [
       "OrderedDict([('name', 'Simba'), ('colour', 'yellow')])"
      ]
     },
     "execution_count": 48,
     "metadata": {},
     "output_type": "execute_result"
    }
   ],
   "source": [
    "my_cat._asdict()"
   ]
  },
  {
   "cell_type": "code",
   "execution_count": 50,
   "metadata": {},
   "outputs": [
    {
     "data": {
      "text/plain": [
       "'{\"name\": \"Simba\", \"colour\": \"yellow\"}'"
      ]
     },
     "execution_count": 50,
     "metadata": {},
     "output_type": "execute_result"
    }
   ],
   "source": [
    "import json\n",
    "\n",
    "json.dumps(my_cat._asdict())"
   ]
  },
  {
   "cell_type": "code",
   "execution_count": 51,
   "metadata": {},
   "outputs": [
    {
     "name": "stdout",
     "output_type": "stream",
     "text": [
      "Cat(name='Kitty', colour='yellow')\n",
      "False\n"
     ]
    }
   ],
   "source": [
    "your_cat = my_cat._replace(name = 'Kitty')\n",
    "print(your_cat)\n",
    "print(your_cat is my_cat)"
   ]
  },
  {
   "cell_type": "code",
   "execution_count": 52,
   "metadata": {},
   "outputs": [
    {
     "data": {
      "text/plain": [
       "Cat(name='Billy', colour='black')"
      ]
     },
     "execution_count": 52,
     "metadata": {},
     "output_type": "execute_result"
    }
   ],
   "source": [
    "my_cat._make(['Billy', 'black'])"
   ]
  },
  {
   "cell_type": "markdown",
   "metadata": {},
   "source": [
    "#### 17 - New data structures\n",
    "\n",
    "__OrderedDict__ from collections - to remember the insertion order of keys. "
   ]
  },
  {
   "cell_type": "code",
   "execution_count": 1,
   "metadata": {},
   "outputs": [
    {
     "name": "stdout",
     "output_type": "stream",
     "text": [
      "OrderedDict([('one', 1), ('two', 2), ('three', 3)])\n",
      "OrderedDict([('one', 1), ('two', 2), ('three', 3), ('four', 4)])\n"
     ]
    }
   ],
   "source": [
    "import collections\n",
    "\n",
    "d = collections.OrderedDict(one = 1, two = 2, three = 3)\n",
    "print(d)\n",
    "\n",
    "d['four'] = 4\n",
    "print(d)"
   ]
  },
  {
   "cell_type": "markdown",
   "metadata": {},
   "source": [
    "__defaultdict__ from colelctions - to return a default valle if the key is missing"
   ]
  },
  {
   "cell_type": "code",
   "execution_count": 5,
   "metadata": {},
   "outputs": [
    {
     "name": "stdout",
     "output_type": "stream",
     "text": [
      "['Dough', 'Cheese', 'Tomato']\n",
      "[]\n",
      "defaultdict(<class 'list'>, {'ingredients': ['Dough', 'Cheese', 'Tomato'], 'pasta': []})\n"
     ]
    }
   ],
   "source": [
    "dd = collections.defaultdict(list)\n",
    "\n",
    "dd['ingredients'].append('Dough')\n",
    "dd['ingredients'].append('Cheese')\n",
    "dd['ingredients'].append('Tomato')\n",
    "\n",
    "print(dd['ingredients'])\n",
    "print(dd['pasta'])\n",
    "print(dd)"
   ]
  },
  {
   "cell_type": "markdown",
   "metadata": {},
   "source": [
    "__ChainMap__ from collections - to group multiple dictionaries to one mapping"
   ]
  },
  {
   "cell_type": "code",
   "execution_count": 6,
   "metadata": {},
   "outputs": [
    {
     "name": "stdout",
     "output_type": "stream",
     "text": [
      "2\n",
      "['Dough', 'Cheese', 'Tomato']\n",
      "[]\n"
     ]
    }
   ],
   "source": [
    "chain = collections.ChainMap(d, dd)\n",
    "\n",
    "print(chain['two'])\n",
    "print(chain['ingredients'])\n",
    "print(chain['five'])"
   ]
  },
  {
   "cell_type": "markdown",
   "metadata": {},
   "source": [
    "__MappingProxyType__ from types - to create red-only dictionaries"
   ]
  },
  {
   "cell_type": "code",
   "execution_count": 7,
   "metadata": {},
   "outputs": [
    {
     "name": "stdout",
     "output_type": "stream",
     "text": [
      "1\n"
     ]
    },
    {
     "ename": "TypeError",
     "evalue": "'mappingproxy' object does not support item assignment",
     "output_type": "error",
     "traceback": [
      "\u001b[1;31m---------------------------------------------------------------------------\u001b[0m",
      "\u001b[1;31mTypeError\u001b[0m                                 Traceback (most recent call last)",
      "\u001b[1;32m<ipython-input-7-0f866e7d6f7b>\u001b[0m in \u001b[0;36m<module>\u001b[1;34m\u001b[0m\n\u001b[0;32m      4\u001b[0m \u001b[1;33m\u001b[0m\u001b[0m\n\u001b[0;32m      5\u001b[0m \u001b[0mprint\u001b[0m\u001b[1;33m(\u001b[0m\u001b[0mread_only\u001b[0m\u001b[1;33m[\u001b[0m\u001b[1;34m'one'\u001b[0m\u001b[1;33m]\u001b[0m\u001b[1;33m)\u001b[0m\u001b[1;33m\u001b[0m\u001b[1;33m\u001b[0m\u001b[0m\n\u001b[1;32m----> 6\u001b[1;33m \u001b[0mread_only\u001b[0m\u001b[1;33m[\u001b[0m\u001b[1;34m'one'\u001b[0m\u001b[1;33m]\u001b[0m \u001b[1;33m=\u001b[0m \u001b[1;36m2\u001b[0m\u001b[1;33m\u001b[0m\u001b[1;33m\u001b[0m\u001b[0m\n\u001b[0m",
      "\u001b[1;31mTypeError\u001b[0m: 'mappingproxy' object does not support item assignment"
     ]
    }
   ],
   "source": [
    "from types import MappingProxyType\n",
    "\n",
    "read_only = MappingProxyType(d)\n",
    "\n",
    "print(read_only['one'])\n",
    "read_only['one'] = 2"
   ]
  },
  {
   "cell_type": "markdown",
   "metadata": {},
   "source": [
    "#### 18 - Iterators and generators\n",
    "\n",
    "Example of a created iterator:"
   ]
  },
  {
   "cell_type": "code",
   "execution_count": 12,
   "metadata": {},
   "outputs": [],
   "source": [
    "class BoundedRepeater:\n",
    "    def __init__(self, value, max_repeats):\n",
    "        self.value = value\n",
    "        self.max_repeats = max_repeats\n",
    "        self.count = 0\n",
    "        \n",
    "    def __iter__(self):\n",
    "        return self\n",
    "    \n",
    "    def __next__(self):\n",
    "        if self.count >= self.max_repeats:\n",
    "            raise StopIteration\n",
    "        self.count += 1\n",
    "        return self.value"
   ]
  },
  {
   "cell_type": "code",
   "execution_count": 13,
   "metadata": {},
   "outputs": [
    {
     "name": "stdout",
     "output_type": "stream",
     "text": [
      "Hi\n",
      "Hi\n",
      "Hi\n"
     ]
    }
   ],
   "source": [
    "repeater = BoundedRepeater('Hi', 3)\n",
    "\n",
    "for item in repeater:\n",
    "    print(item)"
   ]
  },
  {
   "cell_type": "markdown",
   "metadata": {},
   "source": [
    "Now, the same example, but as a generator:"
   ]
  },
  {
   "cell_type": "code",
   "execution_count": 14,
   "metadata": {},
   "outputs": [],
   "source": [
    "def bounded_repeater(value, max_repeats):\n",
    "    count = 0\n",
    "    while True:\n",
    "        if count >= max_repeats:\n",
    "            return\n",
    "        count += 1\n",
    "        yield value"
   ]
  },
  {
   "cell_type": "code",
   "execution_count": 15,
   "metadata": {},
   "outputs": [
    {
     "name": "stdout",
     "output_type": "stream",
     "text": [
      "Hi\n",
      "Hi\n",
      "Hi\n"
     ]
    }
   ],
   "source": [
    "for item in bounded_repeater('Hi', 3):\n",
    "    print(item)"
   ]
  },
  {
   "cell_type": "markdown",
   "metadata": {},
   "source": [
    "Generator expression:"
   ]
  },
  {
   "cell_type": "code",
   "execution_count": 19,
   "metadata": {},
   "outputs": [
    {
     "name": "stdout",
     "output_type": "stream",
     "text": [
      "<generator object <genexpr> at 0x000001B82C0B9B10>\n",
      "Hi\n",
      "Hi\n",
      "Hi\n"
     ]
    },
    {
     "ename": "StopIteration",
     "evalue": "",
     "output_type": "error",
     "traceback": [
      "\u001b[1;31m---------------------------------------------------------------------------\u001b[0m",
      "\u001b[1;31mStopIteration\u001b[0m                             Traceback (most recent call last)",
      "\u001b[1;32m<ipython-input-19-0109734afb4d>\u001b[0m in \u001b[0;36m<module>\u001b[1;34m\u001b[0m\n\u001b[0;32m      6\u001b[0m     \u001b[0mprint\u001b[0m\u001b[1;33m(\u001b[0m\u001b[0mi\u001b[0m\u001b[1;33m)\u001b[0m\u001b[1;33m\u001b[0m\u001b[1;33m\u001b[0m\u001b[0m\n\u001b[0;32m      7\u001b[0m \u001b[1;33m\u001b[0m\u001b[0m\n\u001b[1;32m----> 8\u001b[1;33m \u001b[0mnext\u001b[0m\u001b[1;33m(\u001b[0m\u001b[0mgenexpr\u001b[0m\u001b[1;33m)\u001b[0m\u001b[1;33m\u001b[0m\u001b[1;33m\u001b[0m\u001b[0m\n\u001b[0m",
      "\u001b[1;31mStopIteration\u001b[0m: "
     ]
    }
   ],
   "source": [
    "genexpr = ('Hi' for i in range(3))\n",
    "\n",
    "print(genexpr)\n",
    "\n",
    "for i in genexpr:\n",
    "    print(i)\n",
    "    \n",
    "next(genexpr)"
   ]
  },
  {
   "cell_type": "markdown",
   "metadata": {},
   "source": [
    "Stacking iterators may sometimes be convenient:"
   ]
  },
  {
   "cell_type": "code",
   "execution_count": 24,
   "metadata": {},
   "outputs": [
    {
     "name": "stdout",
     "output_type": "stream",
     "text": [
      "<generator object <genexpr> at 0x000001B82C5D0390>\n"
     ]
    },
    {
     "data": {
      "text/plain": [
       "[0, -1, -4, -9, -16, -25, -36, -49]"
      ]
     },
     "execution_count": 24,
     "metadata": {},
     "output_type": "execute_result"
    }
   ],
   "source": [
    "integers = range(8)\n",
    "squared = (i * i for i in integers)\n",
    "negated = (-i for i in squared)\n",
    "\n",
    "print(negated)\n",
    "\n",
    "list(negated)"
   ]
  },
  {
   "cell_type": "markdown",
   "metadata": {},
   "source": [
    "This last technique is good for data pipelines, as every output is not stored i nthe memory, so crashing program because of the memory overuse is harder. "
   ]
  },
  {
   "cell_type": "code",
   "execution_count": null,
   "metadata": {},
   "outputs": [],
   "source": []
  }
 ],
 "metadata": {
  "kernelspec": {
   "display_name": "Python 3",
   "language": "python",
   "name": "python3"
  },
  "language_info": {
   "codemirror_mode": {
    "name": "ipython",
    "version": 3
   },
   "file_extension": ".py",
   "mimetype": "text/x-python",
   "name": "python",
   "nbconvert_exporter": "python",
   "pygments_lexer": "ipython3",
   "version": "3.7.3"
  }
 },
 "nbformat": 4,
 "nbformat_minor": 2
}
