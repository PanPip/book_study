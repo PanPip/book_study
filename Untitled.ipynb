{
 "cells": [
  {
   "cell_type": "markdown",
   "metadata": {},
   "source": [
    "## Python Tricks \n",
    "#### by Dan Bader\n",
    "\n",
    "###### October 2019"
   ]
  },
  {
   "cell_type": "markdown",
   "metadata": {},
   "source": [
    "#### 1 - Assertions\n",
    "\n",
    "Asserts - using to make sure that the unexpected values won't occure. \n",
    "\n",
    "Watch out when using assertions with tuples or lists etc. (Evalueting if the structure is empty and not the values inside)"
   ]
  },
  {
   "cell_type": "code",
   "execution_count": 11,
   "metadata": {},
   "outputs": [],
   "source": [
    "def positive_product_function(x, y):\n",
    "    result = x * y\n",
    "    assert result >= 0, (\n",
    "        'Result was a negative value. '\n",
    "        'This shouldn\\'t occur during'\n",
    "        'the nomal work of the function')\n",
    "    return result   "
   ]
  },
  {
   "cell_type": "code",
   "execution_count": 12,
   "metadata": {},
   "outputs": [
    {
     "ename": "AssertionError",
     "evalue": "Result was a negative value. This shouldn't occur duringthe nomal work of the function",
     "output_type": "error",
     "traceback": [
      "\u001b[1;31m---------------------------------------------------------------------------\u001b[0m",
      "\u001b[1;31mAssertionError\u001b[0m                            Traceback (most recent call last)",
      "\u001b[1;32m<ipython-input-12-a3c7025cfe1d>\u001b[0m in \u001b[0;36m<module>\u001b[1;34m\u001b[0m\n\u001b[1;32m----> 1\u001b[1;33m \u001b[0mpositive_product_function\u001b[0m\u001b[1;33m(\u001b[0m\u001b[1;36m5\u001b[0m\u001b[1;33m,\u001b[0m \u001b[1;33m-\u001b[0m\u001b[1;36m15\u001b[0m\u001b[1;33m)\u001b[0m\u001b[1;33m\u001b[0m\u001b[1;33m\u001b[0m\u001b[0m\n\u001b[0m",
      "\u001b[1;32m<ipython-input-11-084fb64bfbaf>\u001b[0m in \u001b[0;36mpositive_product_function\u001b[1;34m(x, y)\u001b[0m\n\u001b[0;32m      2\u001b[0m     \u001b[0mresult\u001b[0m \u001b[1;33m=\u001b[0m \u001b[0mx\u001b[0m \u001b[1;33m*\u001b[0m \u001b[0my\u001b[0m\u001b[1;33m\u001b[0m\u001b[1;33m\u001b[0m\u001b[0m\n\u001b[0;32m      3\u001b[0m     assert result >= 0, (\n\u001b[1;32m----> 4\u001b[1;33m         \u001b[1;34m'Result was a negative value. '\u001b[0m\u001b[1;33m\u001b[0m\u001b[1;33m\u001b[0m\u001b[0m\n\u001b[0m\u001b[0;32m      5\u001b[0m         \u001b[1;34m'This shouldn\\'t occur during'\u001b[0m\u001b[1;33m\u001b[0m\u001b[1;33m\u001b[0m\u001b[0m\n\u001b[0;32m      6\u001b[0m         'the nomal work of the function')\n",
      "\u001b[1;31mAssertionError\u001b[0m: Result was a negative value. This shouldn't occur duringthe nomal work of the function"
     ]
    }
   ],
   "source": [
    "positive_product_function(5, -15)"
   ]
  },
  {
   "cell_type": "markdown",
   "metadata": {},
   "source": [
    "Normally shouldn't occur and indicates of a malfunction in the program workflow.\n",
    "\n",
    "**TIP:** Not recommended to use for data validation, as the interpreter may have assertions disabled"
   ]
  },
  {
   "cell_type": "code",
   "execution_count": 13,
   "metadata": {},
   "outputs": [],
   "source": [
    "assert (False, 'Assert on an unempty'\n",
    "        'tuple won\\'t raise error.')"
   ]
  },
  {
   "cell_type": "markdown",
   "metadata": {},
   "source": [
    "#### 2 - Commas\n",
    "\n",
    "Advised to use commas after every row in lists etc. for a more readable diff in the control system. \n",
    "Also mind the merging of the strings not separated by commas."
   ]
  },
  {
   "cell_type": "code",
   "execution_count": 16,
   "metadata": {},
   "outputs": [
    {
     "data": {
      "text/plain": [
       "['blue', 'red', 'green', 'yellow']"
      ]
     },
     "execution_count": 16,
     "metadata": {},
     "output_type": "execute_result"
    }
   ],
   "source": [
    "colours = [\n",
    "    'blue',\n",
    "    'red',\n",
    "    'green',\n",
    "    'yel'\n",
    "    'low',\n",
    "]\n",
    "\n",
    "colours"
   ]
  },
  {
   "cell_type": "markdown",
   "metadata": {},
   "source": [
    "#### 3 - __with__ statement to work with files and formatting\n",
    "\n",
    "Ensures that file will be closed. \n",
    "\n",
    "Can be used od fifferent level for formatting simplification and other."
   ]
  },
  {
   "cell_type": "code",
   "execution_count": 19,
   "metadata": {},
   "outputs": [],
   "source": [
    "class WorkFile:\n",
    "    '''\n",
    "    Class created to prevent resource leakage\n",
    "    '''\n",
    "    def __init__(self, name):\n",
    "        self.name = name\n",
    "        \n",
    "    def __enter__(self):\n",
    "        self.file = open(self.name, 'w')\n",
    "        return self.file\n",
    "    \n",
    "    def __exit__(self, exc_type, exc_val, exc_tb):\n",
    "        '''\n",
    "        Requires 4 arguments by documentation.\n",
    "        '''\n",
    "        if self.file:\n",
    "            self.file.close()"
   ]
  },
  {
   "cell_type": "code",
   "execution_count": 20,
   "metadata": {},
   "outputs": [],
   "source": [
    "with WorkFile('test.txt') as f:\n",
    "    f.write('You\\'re a good file')\n",
    "    f.write('Keep it up')"
   ]
  },
  {
   "cell_type": "markdown",
   "metadata": {},
   "source": [
    "Now to the formatting:"
   ]
  },
  {
   "cell_type": "code",
   "execution_count": 22,
   "metadata": {},
   "outputs": [],
   "source": [
    "class TreeStructure:\n",
    "    def __init__(self):\n",
    "        self.level = 0\n",
    "        \n",
    "    def __enter__(self):\n",
    "        self.level += 1\n",
    "        return self\n",
    "    \n",
    "    def __exit__(self, exc_type, exc_val, exc_tb):\n",
    "        self.level -= 1\n",
    "        return self\n",
    "    \n",
    "    def print(self, text):\n",
    "        try:\n",
    "            print('∟' + '___' * self.level + text)\n",
    "        except:\n",
    "            print('Some error occured in the process of Tree Structure creation.')"
   ]
  },
  {
   "cell_type": "code",
   "execution_count": 24,
   "metadata": {},
   "outputs": [
    {
     "name": "stdout",
     "output_type": "stream",
     "text": [
      "∟home\n",
      "∟___bin\n",
      "∟______hidden folder\n",
      "∟___dir\n",
      "∟___exc\n"
     ]
    }
   ],
   "source": [
    "tree = TreeStructure()\n",
    "\n",
    "tree.print('home')\n",
    "with tree:\n",
    "    tree.print('bin')\n",
    "    with tree:\n",
    "        tree.print('hidden folder')\n",
    "    tree.print('dir')\n",
    "    tree.print('exc')"
   ]
  },
  {
   "cell_type": "code",
   "execution_count": null,
   "metadata": {},
   "outputs": [],
   "source": []
  }
 ],
 "metadata": {
  "kernelspec": {
   "display_name": "Python 3",
   "language": "python",
   "name": "python3"
  },
  "language_info": {
   "codemirror_mode": {
    "name": "ipython",
    "version": 3
   },
   "file_extension": ".py",
   "mimetype": "text/x-python",
   "name": "python",
   "nbconvert_exporter": "python",
   "pygments_lexer": "ipython3",
   "version": "3.7.3"
  }
 },
 "nbformat": 4,
 "nbformat_minor": 2
}
